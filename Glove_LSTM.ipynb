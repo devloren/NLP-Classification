{
  "nbformat": 4,
  "nbformat_minor": 0,
  "metadata": {
    "colab": {
      "name": "Glove-LSTM.ipynb",
      "provenance": [],
      "collapsed_sections": []
    },
    "kernelspec": {
      "name": "python3",
      "display_name": "Python 3"
    },
    "language_info": {
      "name": "python"
    },
    "gpuClass": "standard",
    "accelerator": "GPU"
  },
  "cells": [
    {
      "cell_type": "code",
      "execution_count": null,
      "metadata": {
        "colab": {
          "base_uri": "https://localhost:8080/"
        },
        "id": "NhkiqDHAgCfS",
        "outputId": "f51fa5e5-ee99-43de-f80d-1f6c22415c83"
      },
      "outputs": [
        {
          "output_type": "stream",
          "name": "stdout",
          "text": [
            "--2022-08-02 18:05:10--  http://nlp.stanford.edu/data/glove.6B.zip\n",
            "Resolving nlp.stanford.edu (nlp.stanford.edu)... 171.64.67.140\n",
            "Connecting to nlp.stanford.edu (nlp.stanford.edu)|171.64.67.140|:80... connected.\n",
            "HTTP request sent, awaiting response... 302 Found\n",
            "Location: https://nlp.stanford.edu/data/glove.6B.zip [following]\n",
            "--2022-08-02 18:05:11--  https://nlp.stanford.edu/data/glove.6B.zip\n",
            "Connecting to nlp.stanford.edu (nlp.stanford.edu)|171.64.67.140|:443... connected.\n",
            "HTTP request sent, awaiting response... 301 Moved Permanently\n",
            "Location: https://downloads.cs.stanford.edu/nlp/data/glove.6B.zip [following]\n",
            "--2022-08-02 18:05:11--  https://downloads.cs.stanford.edu/nlp/data/glove.6B.zip\n",
            "Resolving downloads.cs.stanford.edu (downloads.cs.stanford.edu)... 171.64.64.22\n",
            "Connecting to downloads.cs.stanford.edu (downloads.cs.stanford.edu)|171.64.64.22|:443... connected.\n",
            "HTTP request sent, awaiting response... 200 OK\n",
            "Length: 862182613 (822M) [application/zip]\n",
            "Saving to: ‘/tmp/glove.6B.zip’\n",
            "\n",
            "/tmp/glove.6B.zip   100%[===================>] 822.24M  5.03MB/s    in 2m 40s  \n",
            "\n",
            "2022-08-02 18:07:51 (5.15 MB/s) - ‘/tmp/glove.6B.zip’ saved [862182613/862182613]\n",
            "\n"
          ]
        }
      ],
      "source": [
        "!wget --no-check-certificate \\\n",
        "     http://nlp.stanford.edu/data/glove.6B.zip \\\n",
        "     -O /tmp/glove.6B.zip"
      ]
    },
    {
      "cell_type": "code",
      "source": [
        "%%capture\n",
        "!python3 -m venv venv\n",
        "!source venv/bin/activate\n",
        "!pip install tensorflow transformers"
      ],
      "metadata": {
        "id": "OdpP2Li5liCk"
      },
      "execution_count": null,
      "outputs": []
    },
    {
      "cell_type": "code",
      "source": [
        "import zipfile\n",
        "import pandas as pd\n",
        "from sklearn.utils import shuffle\n",
        "from keras.preprocessing.text import Tokenizer\n",
        "from keras.preprocessing.sequence import pad_sequences\n",
        "import numpy as np\n",
        "import tensorflow as tf\n",
        "from tensorflow.keras import activations, optimizers, losses\n",
        "from transformers import DistilBertTokenizer, TFDistilBertForSequenceClassification\n",
        "import pickle\n",
        "import pandas as pd\n",
        "import numpy as np\n",
        "from numpy import std\n",
        "from sklearn.utils import shuffle\n",
        "import matplotlib.pyplot as plt\n",
        "import tensorflow as tf\n",
        "from sklearn.model_selection import LeaveOneOut,KFold\n",
        "import os\n",
        "from keras.layers import Activation, Concatenate, Conv1D, Dense, Dropout, Embedding   \n",
        "from keras.layers import Flatten, Input, LSTM,  Permute\n",
        "from keras import datasets, layers, models, regularizers\n",
        "from transformers import DistilBertModel, TFDistilBertModel\n",
        "import keras\n",
        "from sklearn.model_selection import train_test_split,KFold , StratifiedKFold\n",
        "os.environ['TF_CPP_MIN_LOG_LEVEL'] = '3' # suppress Tensorflow messages"
      ],
      "metadata": {
        "id": "27Qktm-gggVq"
      },
      "execution_count": null,
      "outputs": []
    },
    {
      "cell_type": "code",
      "source": [
        "\"\"\" \n",
        "    PROCESS DATA FRAME\n",
        "\n",
        "    ARGS:\n",
        "        (string) file location\n",
        "\n",
        "    Return:\n",
        "      Pandas dataframe filled with text from comma separated values (.csv) file\n",
        "\n",
        "      deleted id column\n",
        "      created row with numerical representation of class value\n",
        "        0 - not sarcastic\n",
        "        1 - sarcastic\n",
        "\"\"\"\n",
        "def process_data(s):\n",
        "  #'/content/drive/MyDrive/~MTSU/research/Corpus/GEN-sarc-notsarc.csv'\n",
        "  dataframe = pd.read_csv(s,sep=',',dtype=str,na_values=0)\n",
        "  del dataframe['id']\n",
        "  dataframe['label'] = dataframe['class'].map({'notsarc':0,'sarc':1})\n",
        "  dataframe = dataframe.dropna(how='any',axis=0)\n",
        "  dataframe = shuffle(dataframe)  \n",
        "  return dataframe"
      ],
      "metadata": {
        "id": "uu8HsmqYh3a9"
      },
      "execution_count": null,
      "outputs": []
    },
    {
      "cell_type": "code",
      "source": [
        "with zipfile.ZipFile('/tmp/glove.6B.zip', 'r') as zip_ref:\n",
        "    zip_ref.extractall('/tmp/glove')"
      ],
      "metadata": {
        "id": "BLBszFKag9Xx"
      },
      "execution_count": null,
      "outputs": []
    },
    {
      "cell_type": "code",
      "source": [
        "pd.set_option('display.max_colwidth', None)\n",
        "%load_ext tensorboard\n",
        "\n",
        "\n",
        "log_dir='/content/drive/MyDrive/~MTSU/research/data/GLoVe/LSTM_Model/'\n",
        "model_save_path='/content/drive/MyDrive/~MTSU/research/data/GLoVe/CNN_Model/LSTM_model.h5'"
      ],
      "metadata": {
        "id": "xlRi9fbnhBk9"
      },
      "execution_count": null,
      "outputs": []
    },
    {
      "cell_type": "code",
      "source": [
        "sarc_df = process_data('/content/drive/MyDrive/~MTSU/research/Corpus/GEN-sarc-notsarc.csv')"
      ],
      "metadata": {
        "id": "qP33tIwni6eg"
      },
      "execution_count": null,
      "outputs": []
    },
    {
      "cell_type": "code",
      "source": [
        "X = sarc_df['text']\n",
        "Y = sarc_df['label']"
      ],
      "metadata": {
        "id": "FqbEZNAVjWXM"
      },
      "execution_count": null,
      "outputs": []
    },
    {
      "cell_type": "code",
      "source": [
        "len(X), len(Y)"
      ],
      "metadata": {
        "colab": {
          "base_uri": "https://localhost:8080/"
        },
        "id": "v3Wjv-edojgE",
        "outputId": "2df42d00-f881-4a43-8fef-ba99f85d8f51"
      },
      "execution_count": null,
      "outputs": [
        {
          "output_type": "execute_result",
          "data": {
            "text/plain": [
              "(6520, 6520)"
            ]
          },
          "metadata": {},
          "execution_count": 9
        }
      ]
    },
    {
      "cell_type": "code",
      "source": [
        "'''\n",
        "creates list of unique words in data for embedding matrix\n",
        "'''\n",
        "unique_word = 0\n",
        "max_length = 100\n",
        "\n",
        "list_set = set(X)\n",
        "    # convert the set to the list\n",
        "unique_list = (list(list_set))\n",
        "for x in unique_list:\n",
        "  unique_word += 1\n",
        "\n",
        "print(unique_word)"
      ],
      "metadata": {
        "colab": {
          "base_uri": "https://localhost:8080/"
        },
        "id": "E3kVSi7ejoWq",
        "outputId": "3a89d492-2159-461e-eb67-c1a5a56526e2"
      },
      "execution_count": null,
      "outputs": [
        {
          "output_type": "stream",
          "name": "stdout",
          "text": [
            "6520\n"
          ]
        }
      ]
    },
    {
      "cell_type": "code",
      "source": [
        "vocab_size = unique_word ##vocab size is as large as all the unique words\n",
        "oov_token = \"<OOV>\"\n",
        "tokenizer = Tokenizer(num_words = vocab_size, oov_token=oov_token)\n",
        "tokenizer.fit_on_texts(X)\n",
        "word_index = tokenizer.word_index"
      ],
      "metadata": {
        "id": "bp0kc-M1juKG"
      },
      "execution_count": null,
      "outputs": []
    },
    {
      "cell_type": "code",
      "source": [
        "def construct_padded_encodings(X):\n",
        "  \"\"\"\n",
        "  -set config options for embedding\n",
        "      -- instantatiate tokenizer\n",
        "      -- fit tokenizer on texts\n",
        "\n",
        "      create training sequences \n",
        "\n",
        "      Pad each sentence to the maximum sentence length and encode tokens to\n",
        "        their index in the vocabulary.\n",
        "\n",
        "  Returns: SEQUENCES\n",
        "      input_ids \n",
        "      attention_masks \n",
        "  \"\"\"\n",
        "  max_length = 100\n",
        "  padding_type='post'\n",
        "  truncation_type='post'\n",
        "  tokenizer = Tokenizer(num_words = vocab_size, oov_token=oov_token)\n",
        "  tokenizer.fit_on_texts(X)\n",
        "  word_index = tokenizer.word_index\n",
        "\n",
        "  X_train_sequences = tokenizer.texts_to_sequences(X)\n",
        "  X_train_padded = pad_sequences(X_train_sequences,maxlen=max_length, padding=padding_type, \n",
        "                       truncating=truncation_type)\n",
        "  return X_train_padded, word_index"
      ],
      "metadata": {
        "id": "hG2RyYuXi2Gq"
      },
      "execution_count": null,
      "outputs": []
    },
    {
      "cell_type": "code",
      "source": [
        "X_train, word_index = construct_padded_encodings(X)"
      ],
      "metadata": {
        "id": "7DSJJJ54kCKT"
      },
      "execution_count": null,
      "outputs": []
    },
    {
      "cell_type": "code",
      "source": [
        "len(X_train)"
      ],
      "metadata": {
        "colab": {
          "base_uri": "https://localhost:8080/"
        },
        "id": "0dmh7K9FonJS",
        "outputId": "8796883c-6d61-46d7-b1bd-a7117b3347d3"
      },
      "execution_count": null,
      "outputs": [
        {
          "output_type": "execute_result",
          "data": {
            "text/plain": [
              "6520"
            ]
          },
          "metadata": {},
          "execution_count": 14
        }
      ]
    },
    {
      "cell_type": "code",
      "source": [
        "X_train[0]"
      ],
      "metadata": {
        "colab": {
          "base_uri": "https://localhost:8080/"
        },
        "id": "G0IOnNl-kn-u",
        "outputId": "2b1ca113-ac1b-46d1-e5c5-0fae487c3be5"
      },
      "execution_count": null,
      "outputs": [
        {
          "output_type": "execute_result",
          "data": {
            "text/plain": [
              "array([  26,    9, 3067,    9,    7,   21,    9,  290,    2,  128, 2182,\n",
              "        555,   10,   40,  628,   44,   21, 1728,   10,   53,    7,    1,\n",
              "        109,    2,  115,    2, 4463,   76,  230,    3, 3416,    2, 2058,\n",
              "          8,  308,    2,  346,    5, 1578,  198,   47,   24,    1,  102,\n",
              "        400,  235,   21, 2769,   47,  285,   78,   11,  143,   17,    4,\n",
              "       1234,    3,    1,    8,   78,    4, 4464, 1234,  451, 2535,    3,\n",
              "          2, 4465,    8,    1,  131,  770,    5,  150,   64,   77, 4466,\n",
              "          1,   44,    2,    1,   12,    2,  271,    0,    0,    0,    0,\n",
              "          0,    0,    0,    0,    0,    0,    0,    0,    0,    0,    0,\n",
              "          0], dtype=int32)"
            ]
          },
          "metadata": {},
          "execution_count": 15
        }
      ]
    },
    {
      "cell_type": "code",
      "source": [
        "def create_embed_matrix():\n",
        "  embeddings_index = {}\n",
        "  f = open('/tmp/glove/glove.6B.100d.txt') #can be 50, 100, 200, 300 but not 150, must match max length to get same shape\n",
        "  for line in f:\n",
        "      values = line.split()\n",
        "      word = values[0]\n",
        "      coefs = np.asarray(values[1:], dtype='float32')\n",
        "      embeddings_index[word] = coefs\n",
        "  f.close()\n",
        "\n",
        "  print('Found %s word vectors.' % len(embeddings_index))\n",
        "\n",
        "  embedding_matrix = np.zeros((len(word_index) + 1, max_length))\n",
        "  for word, i in word_index.items():\n",
        "      embedding_vector = embeddings_index.get(word)\n",
        "      if embedding_vector is not None:\n",
        "          # words not found in embedding index will be all-zeros.\n",
        "          embedding_matrix[i] = embedding_vector\n",
        "  return embedding_matrix\n"
      ],
      "metadata": {
        "id": "uBhIX-y3kq65"
      },
      "execution_count": null,
      "outputs": []
    },
    {
      "cell_type": "code",
      "source": [
        "embedding_matrix = create_embed_matrix()"
      ],
      "metadata": {
        "colab": {
          "base_uri": "https://localhost:8080/"
        },
        "id": "CB7tWxmenS6L",
        "outputId": "77d65ade-fb88-48b3-f818-af4768e88cbd"
      },
      "execution_count": null,
      "outputs": [
        {
          "output_type": "stream",
          "name": "stdout",
          "text": [
            "Found 400000 word vectors.\n"
          ]
        }
      ]
    },
    {
      "cell_type": "code",
      "source": [
        "class L_MODEL(tf.keras.Model):\n",
        "    \n",
        "    def __init__(self,\n",
        "                 vocabulary_size,\n",
        "                 embedding_dimensions=200,\n",
        "                 cnn_filters=50,\n",
        "                 dnn_units=512,\n",
        "                 model_output_classes=2,\n",
        "                 dropout_rate=0.1,\n",
        "                 training=False,\n",
        "                 name=\"text_model\"):\n",
        "        super(L_MODEL, self).__init__(name=name)\n",
        "        \n",
        "        self.embedding = layers.Embedding(vocabulary_size,\n",
        "                                          embedding_dimensions)\n",
        "        self.lstm_layer1 = LSTM(512,\n",
        "                               activation='relu',\n",
        "                               dropout=0.5, \n",
        "                               return_sequences=True,\n",
        "                               kernel_regularizer=regularizers.l1(0.01))\n",
        "        self.lstm_layer2 = LSTM(256, \n",
        "                               return_sequences=True)\n",
        "        self.lstm_layer3 = LSTM(128, \n",
        "                               return_sequences=True)\n",
        "        self.pool = layers.GlobalMaxPool1D()\n",
        "        \n",
        "        self.dense_1 = layers.Dense(units=dnn_units, activation=\"relu\")\n",
        "        self.dropout = layers.Dropout(rate=dropout_rate)\n",
        "        if model_output_classes == 2:\n",
        "            self.last_dense = layers.Dense(units=1,\n",
        "                                           activation=\"sigmoid\")\n",
        "        else:\n",
        "            self.last_dense = layers.Dense(units=model_output_classes,\n",
        "                                           activation=\"softmax\")\n",
        "    \n",
        "    def call(self, inputs, training):\n",
        "        l = self.embedding(inputs)\n",
        "        l_1 = self.lstm_layer1(l) \n",
        "        l_1 = self.pool(l_1) \n",
        "        l_2 = self.lstm_layer2(l) \n",
        "        l_2 = self.pool(l_2)\n",
        "        l_3 = self.lstm_layer3(l)\n",
        "        l_3 = self.pool(l_3) \n",
        "        \n",
        "        concatenated = tf.concat([l_1, l_2, l_3], axis=-1) # (batch_size, 3 * cnn_filters)\n",
        "        concatenated = self.dense_1(concatenated)\n",
        "        concatenated = self.dropout(concatenated, training)\n",
        "        model_output = self.last_dense(concatenated)\n",
        "        \n",
        "        return model_output"
      ],
      "metadata": {
        "id": "lwpc8tlHlZfw"
      },
      "execution_count": null,
      "outputs": []
    },
    {
      "cell_type": "code",
      "source": [
        "'''\n",
        "      MODEL CONFIG VARIABLES\n",
        "'''\n",
        "VOCAB_LENGTH = len(word_index)\n",
        "EMB_DIM = 200\n",
        "CNN_FILTERS = 100\n",
        "DNN_UNITS = 256\n",
        "OUTPUT_CLASSES = 2\n",
        "BATCH_SIZE = 32\n",
        "DROPOUT_RATE = 0.5\n",
        "\n",
        "NB_EPOCHS = 3\n",
        "k = 5\n",
        "kf = KFold(n_splits=k, shuffle=False)\n",
        "MODEL_NAME = 'distilbert-base-uncased'\n",
        "MAX_LEN = 200\n",
        "\n",
        "callbacks = [tf.keras.callbacks.ModelCheckpoint(filepath=model_save_path,save_weights_only=True,monitor='val_accuracy',mode='max',save_best_only=False,save_freq=NB_EPOCHS),keras.callbacks.TensorBoard(log_dir=log_dir)]"
      ],
      "metadata": {
        "id": "2piDwKPtmP_n"
      },
      "execution_count": null,
      "outputs": []
    },
    {
      "cell_type": "code",
      "source": [
        "\"\"\"\n",
        "  TRAIN MODEL \n",
        "\n",
        "    ARGS -\n",
        "      x-train - input_ids training set\n",
        "      x_valid - input_ids validation set\n",
        "      y_train - label training set\n",
        "      y_valid - label validation set\n",
        "\"\"\"\n",
        "def train_model(model, x_train,x_valid, y_train, y_val):\n",
        "  if OUTPUT_CLASSES == 2:\n",
        "    model.compile(loss=\"binary_crossentropy\",\n",
        "                       optimizer=\"adam\",\n",
        "                       metrics=[\"accuracy\"])\n",
        "  else:\n",
        "    model.compile(loss=\"sparse_categorical_crossentropy\",\n",
        "                       optimizer=\"adam\",\n",
        "                       metrics=[\"sparse_categorical_accuracy\"])\n",
        "\n",
        "  history = model.fit(x_train, y=y_train,\n",
        "              epochs=NB_EPOCHS, validation_data=(x_valid,y_val),callbacks=callbacks)\n",
        "  plt.plot(history.history['loss'])\n",
        "  plt.plot(history.history['val_loss'])\n",
        "  plt.legend(['Training Loss','Validation Loss'])\n",
        "  plt.xlabel('Epoch')\n",
        "  plt.ylabel('CCE Loss')\n",
        "  plt.show()\n",
        "  plt.plot(history.history['accuracy'])\n",
        "  plt.plot(history.history['val_accuracy'])\n",
        "  plt.legend(['Training','Validation'])\n",
        "  plt.xlabel('Epoch')\n",
        "  plt.ylabel('Accuracy (P)')\n",
        "  plt.show()"
      ],
      "metadata": {
        "id": "MY0lHDxLlzQu"
      },
      "execution_count": null,
      "outputs": []
    },
    {
      "cell_type": "code",
      "source": [
        "ids = np.asarray(X_train)\n",
        "labels = np.array(Y)\n",
        "'''\n",
        "    K FOLD VALIDATION LOOP\n",
        "\n",
        "   X   create input_id training and validation sets in \n",
        "   Y   create label training and validation sets in\n",
        "\n",
        "   model = none clears memory\n",
        "   Create model\n",
        "\n",
        "   Call train model function for learning\n",
        "\n",
        "   benchmarks saves in evaluate and printed\n",
        "   predictor made from model and compared to label set\n",
        "\n",
        "\n",
        "   save model and weights in log_directory\n",
        "'''\n",
        "for train_index, val_index in kf.split(ids,labels):\n",
        "      X_train, X_val = ids[train_index], ids[val_index]\n",
        "      Y_train, Y_val = labels[train_index], labels[val_index]\n",
        "          \n",
        "      model = None\n",
        "      model = L_MODEL(vocabulary_size=VOCAB_LENGTH,\n",
        "                        embedding_dimensions=EMB_DIM,\n",
        "                        cnn_filters=CNN_FILTERS,\n",
        "                        dnn_units=DNN_UNITS,\n",
        "                        model_output_classes=OUTPUT_CLASSES,\n",
        "                        dropout_rate=DROPOUT_RATE)\n",
        "      history = train_model(model, X_train, X_val, Y_train, Y_val)\n",
        "      benchmarks = model.evaluate(X_val,y=Y_val, return_dict=True, batch_size=BATCH_SIZE)\n",
        "      print(benchmarks)\n",
        "      with open(model_save_path, 'wb') as f:\n",
        "          pickle.dump((model, MAX_LEN), f)"
      ],
      "metadata": {
        "colab": {
          "base_uri": "https://localhost:8080/",
          "height": 1000
        },
        "id": "1NjdAyIGmFRJ",
        "outputId": "ff8ee35c-c9b7-4919-c947-48499bf32bd2"
      },
      "execution_count": null,
      "outputs": [
        {
          "output_type": "stream",
          "name": "stdout",
          "text": [
            "WARNING:tensorflow:Layer lstm will not use cuDNN kernels since it doesn't meet the criteria. It will use a generic GPU kernel as fallback when running on GPU.\n",
            "Epoch 1/3\n",
            "163/163 [==============================] - 39s 181ms/step - loss: 13.3437 - accuracy: 0.6589 - val_loss: 1.0536 - val_accuracy: 0.7285\n",
            "Epoch 2/3\n",
            "163/163 [==============================] - 28s 175ms/step - loss: 0.9425 - accuracy: 0.8087 - val_loss: 0.9988 - val_accuracy: 0.7492\n",
            "Epoch 3/3\n",
            "163/163 [==============================] - 27s 165ms/step - loss: 0.8031 - accuracy: 0.8809 - val_loss: 1.1370 - val_accuracy: 0.7324\n"
          ]
        },
        {
          "output_type": "display_data",
          "data": {
            "text/plain": [
              "<Figure size 432x288 with 1 Axes>"
            ],
            "image/png": "[encoded data removed]"
          },
          "metadata": {
            "needs_background": "light"
          }
        },
        {
          "output_type": "display_data",
          "data": {
            "text/plain": [
              "<Figure size 432x288 with 1 Axes>"
            ],
            "image/png": "[encoded data removed]"
          },
          "metadata": {
            "needs_background": "light"
          }
        },
        {
          "output_type": "stream",
          "name": "stdout",
          "text": [
            "41/41 [==============================] - 1s 36ms/step - loss: 1.1370 - accuracy: 0.7324\n",
            "{'loss': 1.1370130777359009, 'accuracy': 0.7323619723320007}\n"
          ]
        },
        {
          "output_type": "stream",
          "name": "stderr",
          "text": [
            "WARNING:absl:Found untraced functions such as lstm_cell_1_layer_call_fn, lstm_cell_1_layer_call_and_return_conditional_losses, lstm_cell_2_layer_call_fn, lstm_cell_2_layer_call_and_return_conditional_losses while saving (showing 4 of 4). These functions will not be directly callable after loading.\n"
          ]
        },
        {
          "output_type": "stream",
          "name": "stdout",
          "text": [
            "INFO:tensorflow:Assets written to: ram://9a30b3bb-c709-42a3-8acc-411c3b300d55/assets\n"
          ]
        },
        {
          "output_type": "stream",
          "name": "stderr",
          "text": [
            "INFO:tensorflow:Assets written to: ram://9a30b3bb-c709-42a3-8acc-411c3b300d55/assets\n",
            "WARNING:absl:<keras.layers.recurrent.LSTMCell object at 0x7f50c667c810> has the same name 'LSTMCell' as a built-in Keras object. Consider renaming <class 'keras.layers.recurrent.LSTMCell'> to avoid naming conflicts when loading with `tf.keras.models.load_model`. If renaming is not possible, pass the object in the `custom_objects` parameter of the load function.\n",
            "WARNING:absl:<keras.layers.recurrent.LSTMCell object at 0x7f50c64df810> has the same name 'LSTMCell' as a built-in Keras object. Consider renaming <class 'keras.layers.recurrent.LSTMCell'> to avoid naming conflicts when loading with `tf.keras.models.load_model`. If renaming is not possible, pass the object in the `custom_objects` parameter of the load function.\n",
            "WARNING:absl:<keras.layers.recurrent.LSTMCell object at 0x7f50c64e1e10> has the same name 'LSTMCell' as a built-in Keras object. Consider renaming <class 'keras.layers.recurrent.LSTMCell'> to avoid naming conflicts when loading with `tf.keras.models.load_model`. If renaming is not possible, pass the object in the `custom_objects` parameter of the load function.\n"
          ]
        },
        {
          "output_type": "stream",
          "name": "stdout",
          "text": [
            "WARNING:tensorflow:Layer lstm_3 will not use cuDNN kernels since it doesn't meet the criteria. It will use a generic GPU kernel as fallback when running on GPU.\n"
          ]
        },
        {
          "output_type": "stream",
          "name": "stderr",
          "text": [
            "WARNING:tensorflow:Layer lstm_3 will not use cuDNN kernels since it doesn't meet the criteria. It will use a generic GPU kernel as fallback when running on GPU.\n"
          ]
        },
        {
          "output_type": "stream",
          "name": "stdout",
          "text": [
            "Epoch 1/3\n",
            "163/163 [==============================] - 33s 173ms/step - loss: 13.3479 - accuracy: 0.6741 - val_loss: 1.0414 - val_accuracy: 0.7416\n",
            "Epoch 2/3\n",
            "163/163 [==============================] - 29s 176ms/step - loss: 0.9405 - accuracy: 0.8071 - val_loss: 1.0110 - val_accuracy: 0.7538\n",
            "Epoch 3/3\n",
            "163/163 [==============================] - 30s 181ms/step - loss: 0.7976 - accuracy: 0.8806 - val_loss: 1.0553 - val_accuracy: 0.7408\n"
          ]
        },
        {
          "output_type": "display_data",
          "data": {
            "text/plain": [
              "<Figure size 432x288 with 1 Axes>"
            ],
            "image/png": "[encoded data removed]"
          },
          "metadata": {
            "needs_background": "light"
          }
        },
        {
          "output_type": "display_data",
          "data": {
            "text/plain": [
              "<Figure size 432x288 with 1 Axes>"
            ],
            "image/png": "[encoded data removed]"
          },
          "metadata": {
            "needs_background": "light"
          }
        },
        {
          "output_type": "stream",
          "name": "stdout",
          "text": [
            "41/41 [==============================] - 1s 25ms/step - loss: 1.0553 - accuracy: 0.7408\n",
            "{'loss': 1.055261492729187, 'accuracy': 0.7407975196838379}\n"
          ]
        },
        {
          "output_type": "stream",
          "name": "stderr",
          "text": [
            "WARNING:absl:Found untraced functions such as lstm_cell_4_layer_call_fn, lstm_cell_4_layer_call_and_return_conditional_losses, lstm_cell_5_layer_call_fn, lstm_cell_5_layer_call_and_return_conditional_losses while saving (showing 4 of 4). These functions will not be directly callable after loading.\n"
          ]
        },
        {
          "output_type": "stream",
          "name": "stdout",
          "text": [
            "INFO:tensorflow:Assets written to: ram://b8d00304-a508-4715-b29f-6928fb0e9b2c/assets\n"
          ]
        },
        {
          "output_type": "stream",
          "name": "stderr",
          "text": [
            "INFO:tensorflow:Assets written to: ram://b8d00304-a508-4715-b29f-6928fb0e9b2c/assets\n",
            "WARNING:absl:<keras.layers.recurrent.LSTMCell object at 0x7f50c2daa510> has the same name 'LSTMCell' as a built-in Keras object. Consider renaming <class 'keras.layers.recurrent.LSTMCell'> to avoid naming conflicts when loading with `tf.keras.models.load_model`. If renaming is not possible, pass the object in the `custom_objects` parameter of the load function.\n",
            "WARNING:absl:<keras.layers.recurrent.LSTMCell object at 0x7f50c4b4be90> has the same name 'LSTMCell' as a built-in Keras object. Consider renaming <class 'keras.layers.recurrent.LSTMCell'> to avoid naming conflicts when loading with `tf.keras.models.load_model`. If renaming is not possible, pass the object in the `custom_objects` parameter of the load function.\n",
            "WARNING:absl:<keras.layers.recurrent.LSTMCell object at 0x7f50c309b4d0> has the same name 'LSTMCell' as a built-in Keras object. Consider renaming <class 'keras.layers.recurrent.LSTMCell'> to avoid naming conflicts when loading with `tf.keras.models.load_model`. If renaming is not possible, pass the object in the `custom_objects` parameter of the load function.\n"
          ]
        },
        {
          "output_type": "stream",
          "name": "stdout",
          "text": [
            "WARNING:tensorflow:Layer lstm_6 will not use cuDNN kernels since it doesn't meet the criteria. It will use a generic GPU kernel as fallback when running on GPU.\n"
          ]
        },
        {
          "output_type": "stream",
          "name": "stderr",
          "text": [
            "WARNING:tensorflow:Layer lstm_6 will not use cuDNN kernels since it doesn't meet the criteria. It will use a generic GPU kernel as fallback when running on GPU.\n"
          ]
        },
        {
          "output_type": "stream",
          "name": "stdout",
          "text": [
            "Epoch 1/3\n",
            "163/163 [==============================] - 33s 180ms/step - loss: 13.3082 - accuracy: 0.6758 - val_loss: 1.0586 - val_accuracy: 0.7193\n",
            "Epoch 2/3\n",
            "163/163 [==============================] - 28s 171ms/step - loss: 0.9142 - accuracy: 0.8273 - val_loss: 1.0710 - val_accuracy: 0.7186\n",
            "Epoch 3/3\n",
            "163/163 [==============================] - 28s 169ms/step - loss: 0.7815 - accuracy: 0.8930 - val_loss: 1.1583 - val_accuracy: 0.6910\n"
          ]
        },
        {
          "output_type": "display_data",
          "data": {
            "text/plain": [
              "<Figure size 432x288 with 1 Axes>"
            ],
            "image/png": "[encoded data removed]"
          },
          "metadata": {
            "needs_background": "light"
          }
        },
        {
          "output_type": "display_data",
          "data": {
            "text/plain": [
              "<Figure size 432x288 with 1 Axes>"
            ],
            "image/png": "[encoded data removed]"
          },
          "metadata": {
            "needs_background": "light"
          }
        },
        {
          "output_type": "stream",
          "name": "stdout",
          "text": [
            "41/41 [==============================] - 1s 24ms/step - loss: 1.1583 - accuracy: 0.6910\n",
            "{'loss': 1.1583354473114014, 'accuracy': 0.6909509301185608}\n"
          ]
        },
        {
          "output_type": "stream",
          "name": "stderr",
          "text": [
            "WARNING:absl:Found untraced functions such as lstm_cell_7_layer_call_fn, lstm_cell_7_layer_call_and_return_conditional_losses, lstm_cell_8_layer_call_fn, lstm_cell_8_layer_call_and_return_conditional_losses while saving (showing 4 of 4). These functions will not be directly callable after loading.\n"
          ]
        },
        {
          "output_type": "stream",
          "name": "stdout",
          "text": [
            "INFO:tensorflow:Assets written to: ram://2c3c3a36-e905-4705-945b-578c668ec53c/assets\n"
          ]
        },
        {
          "output_type": "stream",
          "name": "stderr",
          "text": [
            "INFO:tensorflow:Assets written to: ram://2c3c3a36-e905-4705-945b-578c668ec53c/assets\n",
            "WARNING:absl:<keras.layers.recurrent.LSTMCell object at 0x7f50c3aab610> has the same name 'LSTMCell' as a built-in Keras object. Consider renaming <class 'keras.layers.recurrent.LSTMCell'> to avoid naming conflicts when loading with `tf.keras.models.load_model`. If renaming is not possible, pass the object in the `custom_objects` parameter of the load function.\n",
            "WARNING:absl:<keras.layers.recurrent.LSTMCell object at 0x7f504ecd2e50> has the same name 'LSTMCell' as a built-in Keras object. Consider renaming <class 'keras.layers.recurrent.LSTMCell'> to avoid naming conflicts when loading with `tf.keras.models.load_model`. If renaming is not possible, pass the object in the `custom_objects` parameter of the load function.\n",
            "WARNING:absl:<keras.layers.recurrent.LSTMCell object at 0x7f504eca9050> has the same name 'LSTMCell' as a built-in Keras object. Consider renaming <class 'keras.layers.recurrent.LSTMCell'> to avoid naming conflicts when loading with `tf.keras.models.load_model`. If renaming is not possible, pass the object in the `custom_objects` parameter of the load function.\n"
          ]
        },
        {
          "output_type": "stream",
          "name": "stdout",
          "text": [
            "WARNING:tensorflow:Layer lstm_9 will not use cuDNN kernels since it doesn't meet the criteria. It will use a generic GPU kernel as fallback when running on GPU.\n"
          ]
        },
        {
          "output_type": "stream",
          "name": "stderr",
          "text": [
            "WARNING:tensorflow:Layer lstm_9 will not use cuDNN kernels since it doesn't meet the criteria. It will use a generic GPU kernel as fallback when running on GPU.\n"
          ]
        },
        {
          "output_type": "stream",
          "name": "stdout",
          "text": [
            "Epoch 1/3\n",
            "163/163 [==============================] - 33s 175ms/step - loss: 13.3146 - accuracy: 0.6741 - val_loss: 1.0238 - val_accuracy: 0.7592\n",
            "Epoch 2/3\n",
            "163/163 [==============================] - 28s 171ms/step - loss: 0.9100 - accuracy: 0.8179 - val_loss: 1.0156 - val_accuracy: 0.7561\n",
            "Epoch 3/3\n",
            "163/163 [==============================] - 29s 175ms/step - loss: 0.7694 - accuracy: 0.8917 - val_loss: 1.0964 - val_accuracy: 0.7285\n"
          ]
        },
        {
          "output_type": "display_data",
          "data": {
            "text/plain": [
              "<Figure size 432x288 with 1 Axes>"
            ],
            "image/png": "[encoded data removed]"
          },
          "metadata": {
            "needs_background": "light"
          }
        },
        {
          "output_type": "display_data",
          "data": {
            "text/plain": [
              "<Figure size 432x288 with 1 Axes>"
            ],
            "image/png": "[encoded data removed]"
          },
          "metadata": {
            "needs_background": "light"
          }
        },
        {
          "output_type": "stream",
          "name": "stdout",
          "text": [
            "41/41 [==============================] - 1s 24ms/step - loss: 1.0964 - accuracy: 0.7285\n",
            "{'loss': 1.096396565437317, 'accuracy': 0.7285276055335999}\n"
          ]
        },
        {
          "output_type": "stream",
          "name": "stderr",
          "text": [
            "WARNING:absl:Found untraced functions such as lstm_cell_10_layer_call_fn, lstm_cell_10_layer_call_and_return_conditional_losses, lstm_cell_11_layer_call_fn, lstm_cell_11_layer_call_and_return_conditional_losses while saving (showing 4 of 4). These functions will not be directly callable after loading.\n"
          ]
        },
        {
          "output_type": "stream",
          "name": "stdout",
          "text": [
            "INFO:tensorflow:Assets written to: ram://5eca0bbb-2f6b-41b0-9506-92a475b3d355/assets\n"
          ]
        },
        {
          "output_type": "stream",
          "name": "stderr",
          "text": [
            "INFO:tensorflow:Assets written to: ram://5eca0bbb-2f6b-41b0-9506-92a475b3d355/assets\n",
            "WARNING:absl:<keras.layers.recurrent.LSTMCell object at 0x7f50c3961d90> has the same name 'LSTMCell' as a built-in Keras object. Consider renaming <class 'keras.layers.recurrent.LSTMCell'> to avoid naming conflicts when loading with `tf.keras.models.load_model`. If renaming is not possible, pass the object in the `custom_objects` parameter of the load function.\n",
            "WARNING:absl:<keras.layers.recurrent.LSTMCell object at 0x7f50c64295d0> has the same name 'LSTMCell' as a built-in Keras object. Consider renaming <class 'keras.layers.recurrent.LSTMCell'> to avoid naming conflicts when loading with `tf.keras.models.load_model`. If renaming is not possible, pass the object in the `custom_objects` parameter of the load function.\n",
            "WARNING:absl:<keras.layers.recurrent.LSTMCell object at 0x7f504ea48790> has the same name 'LSTMCell' as a built-in Keras object. Consider renaming <class 'keras.layers.recurrent.LSTMCell'> to avoid naming conflicts when loading with `tf.keras.models.load_model`. If renaming is not possible, pass the object in the `custom_objects` parameter of the load function.\n"
          ]
        },
        {
          "output_type": "stream",
          "name": "stdout",
          "text": [
            "WARNING:tensorflow:Layer lstm_12 will not use cuDNN kernels since it doesn't meet the criteria. It will use a generic GPU kernel as fallback when running on GPU.\n"
          ]
        },
        {
          "output_type": "stream",
          "name": "stderr",
          "text": [
            "WARNING:tensorflow:Layer lstm_12 will not use cuDNN kernels since it doesn't meet the criteria. It will use a generic GPU kernel as fallback when running on GPU.\n"
          ]
        },
        {
          "output_type": "stream",
          "name": "stdout",
          "text": [
            "Epoch 1/3\n",
            "163/163 [==============================] - 34s 180ms/step - loss: 13.3314 - accuracy: 0.6794 - val_loss: 1.0315 - val_accuracy: 0.7469\n",
            "Epoch 2/3\n",
            "163/163 [==============================] - 27s 168ms/step - loss: 0.9155 - accuracy: 0.8227 - val_loss: 1.0050 - val_accuracy: 0.7653\n",
            "Epoch 3/3\n",
            "163/163 [==============================] - 28s 174ms/step - loss: 0.7859 - accuracy: 0.8855 - val_loss: 1.0331 - val_accuracy: 0.7500\n"
          ]
        },
        {
          "output_type": "display_data",
          "data": {
            "text/plain": [
              "<Figure size 432x288 with 1 Axes>"
            ],
            "image/png": "[encoded data removed]"
          },
          "metadata": {
            "needs_background": "light"
          }
        },
        {
          "output_type": "display_data",
          "data": {
            "text/plain": [
              "<Figure size 432x288 with 1 Axes>"
            ],
            "image/png": "[encoded data removed]"
          },
          "metadata": {
            "needs_background": "light"
          }
        },
        {
          "output_type": "stream",
          "name": "stdout",
          "text": [
            "41/41 [==============================] - 1s 25ms/step - loss: 1.0331 - accuracy: 0.7500\n",
            "{'loss': 1.0330651998519897, 'accuracy': 0.75}\n"
          ]
        },
        {
          "output_type": "stream",
          "name": "stderr",
          "text": [
            "WARNING:absl:Found untraced functions such as lstm_cell_13_layer_call_fn, lstm_cell_13_layer_call_and_return_conditional_losses, lstm_cell_14_layer_call_fn, lstm_cell_14_layer_call_and_return_conditional_losses while saving (showing 4 of 4). These functions will not be directly callable after loading.\n"
          ]
        },
        {
          "output_type": "stream",
          "name": "stdout",
          "text": [
            "INFO:tensorflow:Assets written to: ram://f5bfbc18-85c4-4277-8ae5-3d11a649f598/assets\n"
          ]
        },
        {
          "output_type": "stream",
          "name": "stderr",
          "text": [
            "INFO:tensorflow:Assets written to: ram://f5bfbc18-85c4-4277-8ae5-3d11a649f598/assets\n",
            "WARNING:absl:<keras.layers.recurrent.LSTMCell object at 0x7f504eb8c410> has the same name 'LSTMCell' as a built-in Keras object. Consider renaming <class 'keras.layers.recurrent.LSTMCell'> to avoid naming conflicts when loading with `tf.keras.models.load_model`. If renaming is not possible, pass the object in the `custom_objects` parameter of the load function.\n",
            "WARNING:absl:<keras.layers.recurrent.LSTMCell object at 0x7f50c3a6e7d0> has the same name 'LSTMCell' as a built-in Keras object. Consider renaming <class 'keras.layers.recurrent.LSTMCell'> to avoid naming conflicts when loading with `tf.keras.models.load_model`. If renaming is not possible, pass the object in the `custom_objects` parameter of the load function.\n",
            "WARNING:absl:<keras.layers.recurrent.LSTMCell object at 0x7f504ea0e390> has the same name 'LSTMCell' as a built-in Keras object. Consider renaming <class 'keras.layers.recurrent.LSTMCell'> to avoid naming conflicts when loading with `tf.keras.models.load_model`. If renaming is not possible, pass the object in the `custom_objects` parameter of the load function.\n"
          ]
        }
      ]
    },
    {
      "cell_type": "code",
      "source": [
        "from sklearn.metrics import confusion_matrix,f1_score,classification_report\n"
      ],
      "metadata": {
        "id": "kq__SaqDeVv-"
      },
      "execution_count": null,
      "outputs": []
    },
    {
      "cell_type": "code",
      "source": [
        "preds = model.predict(X_valid_padded,batch_size=16)\n",
        "pred_labels = preds.argmax(axis=1)\n",
        "f1 = f1_score(y_valid,pred_labels)\n",
        "f1"
      ],
      "metadata": {
        "colab": {
          "base_uri": "https://localhost:8080/"
        },
        "id": "AVCH-kciSKLo",
        "outputId": "ac710757-a49b-4741-d9f2-202cd880f07a"
      },
      "execution_count": null,
      "outputs": [
        {
          "output_type": "execute_result",
          "data": {
            "text/plain": [
              "0.6677685950413222"
            ]
          },
          "metadata": {},
          "execution_count": 55
        }
      ]
    },
    {
      "cell_type": "code",
      "source": [
        "label_class_dict={0:'notsarc',1:'sarc'}\n",
        "target_names=label_class_dict.values()"
      ],
      "metadata": {
        "id": "bQUez1vwfG1B"
      },
      "execution_count": null,
      "outputs": []
    },
    {
      "cell_type": "code",
      "source": [
        "print('F1 score',f1)\n",
        "print('Classification Report')\n",
        "print(classification_report(y_valid,pred_labels,target_names=target_names))"
      ],
      "metadata": {
        "colab": {
          "base_uri": "https://localhost:8080/"
        },
        "id": "xe1JokLTeMQc",
        "outputId": "b73e548c-6753-41cd-b4a5-cb0e42ec6346"
      },
      "execution_count": null,
      "outputs": [
        {
          "output_type": "stream",
          "name": "stdout",
          "text": [
            "F1 score 0.6677685950413222\n",
            "Classification Report\n",
            "              precision    recall  f1-score   support\n",
            "\n",
            "     notsarc       0.68      0.75      0.71       333\n",
            "        sarc       0.71      0.63      0.67       319\n",
            "\n",
            "    accuracy                           0.69       652\n",
            "   macro avg       0.69      0.69      0.69       652\n",
            "weighted avg       0.69      0.69      0.69       652\n",
            "\n"
          ]
        }
      ]
    }
  ]
}